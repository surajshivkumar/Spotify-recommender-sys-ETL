{
 "cells": [
  {
   "cell_type": "code",
   "execution_count": 3,
   "id": "6c29e278-d632-46f1-b26a-943f53f33a8e",
   "metadata": {},
   "outputs": [],
   "source": [
    "import pandas as pd\n",
    "import os"
   ]
  },
  {
   "cell_type": "code",
   "execution_count": 4,
   "id": "dafffb14-f53b-4dd2-856e-4c15761cb1f5",
   "metadata": {},
   "outputs": [],
   "source": [
    "from sklearn.cluster import KMeans\n",
    "from sklearn.preprocessing import StandardScaler\n",
    "from sklearn.pipeline import Pipeline\n",
    "from sklearn.manifold import TSNE\n",
    "from sklearn.decomposition import PCA\n",
    "from sklearn.metrics import euclidean_distances\n",
    "from scipy.spatial.distance import cdist"
   ]
  },
  {
   "cell_type": "code",
   "execution_count": 5,
   "id": "0f60c409-bf0b-4030-9f99-9fd5928189fc",
   "metadata": {},
   "outputs": [],
   "source": [
    "data_dir_base = '../data/output'\n",
    "song_feats = '/audio_features.csv'\n",
    "track_info = '/tracks.csv'"
   ]
  },
  {
   "cell_type": "code",
   "execution_count": 6,
   "id": "04c22e0f-86cd-412c-95f5-a1776631a3f8",
   "metadata": {},
   "outputs": [],
   "source": [
    "audio_feats = pd.read_csv(data_dir_base+song_feats)\n",
    "tracks = pd.read_csv(data_dir_base + track_info)"
   ]
  },
  {
   "cell_type": "code",
   "execution_count": 35,
   "id": "88fe3c38-76e7-40b9-8009-03d12d0cab0a",
   "metadata": {},
   "outputs": [],
   "source": [
    "tracks = tracks.drop_duplicates(['track_name']).reset_index(drop=True)"
   ]
  },
  {
   "cell_type": "code",
   "execution_count": 38,
   "id": "297ffa2e-27f2-4bef-968a-6a8b0f8b6604",
   "metadata": {},
   "outputs": [],
   "source": [
    "audio_feats = audio_feats[audio_feats.af_track_id.isin(tracks.track_id)].reset_index(drop=True)"
   ]
  },
  {
   "cell_type": "code",
   "execution_count": 45,
   "id": "fd67399f-7059-4c79-b534-458a6c3d61e7",
   "metadata": {},
   "outputs": [
    {
     "data": {
      "text/html": [
       "<div>\n",
       "<style scoped>\n",
       "    .dataframe tbody tr th:only-of-type {\n",
       "        vertical-align: middle;\n",
       "    }\n",
       "\n",
       "    .dataframe tbody tr th {\n",
       "        vertical-align: top;\n",
       "    }\n",
       "\n",
       "    .dataframe thead th {\n",
       "        text-align: right;\n",
       "    }\n",
       "</style>\n",
       "<table border=\"1\" class=\"dataframe\">\n",
       "  <thead>\n",
       "    <tr style=\"text-align: right;\">\n",
       "      <th></th>\n",
       "      <th>af_track_id</th>\n",
       "      <th>af_danceability</th>\n",
       "      <th>af_energy</th>\n",
       "      <th>af_loudness</th>\n",
       "      <th>af_mode</th>\n",
       "      <th>af_acousticness</th>\n",
       "      <th>af_instrumentalness</th>\n",
       "      <th>af_liveness</th>\n",
       "      <th>af_valence</th>\n",
       "      <th>af_tempo</th>\n",
       "      <th>af_key</th>\n",
       "      <th>af_speechiness</th>\n",
       "      <th>af_time_signature</th>\n",
       "      <th>af_duration_ms</th>\n",
       "    </tr>\n",
       "  </thead>\n",
       "  <tbody>\n",
       "    <tr>\n",
       "      <th>0</th>\n",
       "      <td>6f807x0ima9a1j3VPbc7VN</td>\n",
       "      <td>0.748</td>\n",
       "      <td>0.916</td>\n",
       "      <td>-2.634</td>\n",
       "      <td>1</td>\n",
       "      <td>0.102000</td>\n",
       "      <td>0.000000</td>\n",
       "      <td>0.0653</td>\n",
       "      <td>0.5180</td>\n",
       "      <td>122.036</td>\n",
       "      <td>6</td>\n",
       "      <td>0.0583</td>\n",
       "      <td>4</td>\n",
       "      <td>194754</td>\n",
       "    </tr>\n",
       "    <tr>\n",
       "      <th>1</th>\n",
       "      <td>0r7CVbZTWZgbTCYdfa2P31</td>\n",
       "      <td>0.726</td>\n",
       "      <td>0.815</td>\n",
       "      <td>-4.969</td>\n",
       "      <td>1</td>\n",
       "      <td>0.072400</td>\n",
       "      <td>0.004210</td>\n",
       "      <td>0.3570</td>\n",
       "      <td>0.6930</td>\n",
       "      <td>99.972</td>\n",
       "      <td>11</td>\n",
       "      <td>0.0373</td>\n",
       "      <td>4</td>\n",
       "      <td>162600</td>\n",
       "    </tr>\n",
       "    <tr>\n",
       "      <th>2</th>\n",
       "      <td>1z1Hg7Vb0AhHDiEmnDE79l</td>\n",
       "      <td>0.675</td>\n",
       "      <td>0.931</td>\n",
       "      <td>-3.432</td>\n",
       "      <td>0</td>\n",
       "      <td>0.079400</td>\n",
       "      <td>0.000023</td>\n",
       "      <td>0.1100</td>\n",
       "      <td>0.6130</td>\n",
       "      <td>124.008</td>\n",
       "      <td>1</td>\n",
       "      <td>0.0742</td>\n",
       "      <td>4</td>\n",
       "      <td>176616</td>\n",
       "    </tr>\n",
       "    <tr>\n",
       "      <th>3</th>\n",
       "      <td>75FpbthrwQmzHlBJLuGdC7</td>\n",
       "      <td>0.718</td>\n",
       "      <td>0.930</td>\n",
       "      <td>-3.777</td>\n",
       "      <td>1</td>\n",
       "      <td>0.028700</td>\n",
       "      <td>0.000008</td>\n",
       "      <td>0.2040</td>\n",
       "      <td>0.2800</td>\n",
       "      <td>121.956</td>\n",
       "      <td>7</td>\n",
       "      <td>0.1010</td>\n",
       "      <td>4</td>\n",
       "      <td>169093</td>\n",
       "    </tr>\n",
       "    <tr>\n",
       "      <th>4</th>\n",
       "      <td>1e8PAfcKUYoKkxPhrHqw4x</td>\n",
       "      <td>0.650</td>\n",
       "      <td>0.833</td>\n",
       "      <td>-4.672</td>\n",
       "      <td>1</td>\n",
       "      <td>0.080300</td>\n",
       "      <td>0.000000</td>\n",
       "      <td>0.0833</td>\n",
       "      <td>0.7250</td>\n",
       "      <td>123.976</td>\n",
       "      <td>1</td>\n",
       "      <td>0.0359</td>\n",
       "      <td>4</td>\n",
       "      <td>189052</td>\n",
       "    </tr>\n",
       "    <tr>\n",
       "      <th>...</th>\n",
       "      <td>...</td>\n",
       "      <td>...</td>\n",
       "      <td>...</td>\n",
       "      <td>...</td>\n",
       "      <td>...</td>\n",
       "      <td>...</td>\n",
       "      <td>...</td>\n",
       "      <td>...</td>\n",
       "      <td>...</td>\n",
       "      <td>...</td>\n",
       "      <td>...</td>\n",
       "      <td>...</td>\n",
       "      <td>...</td>\n",
       "      <td>...</td>\n",
       "    </tr>\n",
       "    <tr>\n",
       "      <th>23475</th>\n",
       "      <td>7bxnKAamR3snQ1VGLuVfC1</td>\n",
       "      <td>0.429</td>\n",
       "      <td>0.922</td>\n",
       "      <td>-1.814</td>\n",
       "      <td>1</td>\n",
       "      <td>0.076600</td>\n",
       "      <td>0.000000</td>\n",
       "      <td>0.0668</td>\n",
       "      <td>0.2100</td>\n",
       "      <td>128.168</td>\n",
       "      <td>2</td>\n",
       "      <td>0.0935</td>\n",
       "      <td>4</td>\n",
       "      <td>204375</td>\n",
       "    </tr>\n",
       "    <tr>\n",
       "      <th>23476</th>\n",
       "      <td>5Aevni09Em4575077nkWHz</td>\n",
       "      <td>0.522</td>\n",
       "      <td>0.786</td>\n",
       "      <td>-4.462</td>\n",
       "      <td>1</td>\n",
       "      <td>0.001710</td>\n",
       "      <td>0.004270</td>\n",
       "      <td>0.3750</td>\n",
       "      <td>0.4000</td>\n",
       "      <td>128.041</td>\n",
       "      <td>0</td>\n",
       "      <td>0.0420</td>\n",
       "      <td>4</td>\n",
       "      <td>353120</td>\n",
       "    </tr>\n",
       "    <tr>\n",
       "      <th>23477</th>\n",
       "      <td>7ImMqPP3Q1yfUHvsdn7wEo</td>\n",
       "      <td>0.529</td>\n",
       "      <td>0.821</td>\n",
       "      <td>-4.899</td>\n",
       "      <td>0</td>\n",
       "      <td>0.108000</td>\n",
       "      <td>0.000001</td>\n",
       "      <td>0.1500</td>\n",
       "      <td>0.4360</td>\n",
       "      <td>127.989</td>\n",
       "      <td>6</td>\n",
       "      <td>0.0481</td>\n",
       "      <td>4</td>\n",
       "      <td>210112</td>\n",
       "    </tr>\n",
       "    <tr>\n",
       "      <th>23478</th>\n",
       "      <td>2m69mhnfQ1Oq6lGtXuYhgX</td>\n",
       "      <td>0.626</td>\n",
       "      <td>0.888</td>\n",
       "      <td>-3.361</td>\n",
       "      <td>1</td>\n",
       "      <td>0.007920</td>\n",
       "      <td>0.127000</td>\n",
       "      <td>0.3430</td>\n",
       "      <td>0.3080</td>\n",
       "      <td>128.008</td>\n",
       "      <td>2</td>\n",
       "      <td>0.1090</td>\n",
       "      <td>4</td>\n",
       "      <td>367432</td>\n",
       "    </tr>\n",
       "    <tr>\n",
       "      <th>23479</th>\n",
       "      <td>29zWqhca3zt5NsckZqDf6c</td>\n",
       "      <td>0.603</td>\n",
       "      <td>0.884</td>\n",
       "      <td>-4.571</td>\n",
       "      <td>0</td>\n",
       "      <td>0.000133</td>\n",
       "      <td>0.341000</td>\n",
       "      <td>0.7420</td>\n",
       "      <td>0.0894</td>\n",
       "      <td>127.984</td>\n",
       "      <td>5</td>\n",
       "      <td>0.0385</td>\n",
       "      <td>4</td>\n",
       "      <td>337500</td>\n",
       "    </tr>\n",
       "  </tbody>\n",
       "</table>\n",
       "<p>23480 rows × 14 columns</p>\n",
       "</div>"
      ],
      "text/plain": [
       "                  af_track_id  af_danceability  af_energy  af_loudness  \\\n",
       "0      6f807x0ima9a1j3VPbc7VN            0.748      0.916       -2.634   \n",
       "1      0r7CVbZTWZgbTCYdfa2P31            0.726      0.815       -4.969   \n",
       "2      1z1Hg7Vb0AhHDiEmnDE79l            0.675      0.931       -3.432   \n",
       "3      75FpbthrwQmzHlBJLuGdC7            0.718      0.930       -3.777   \n",
       "4      1e8PAfcKUYoKkxPhrHqw4x            0.650      0.833       -4.672   \n",
       "...                       ...              ...        ...          ...   \n",
       "23475  7bxnKAamR3snQ1VGLuVfC1            0.429      0.922       -1.814   \n",
       "23476  5Aevni09Em4575077nkWHz            0.522      0.786       -4.462   \n",
       "23477  7ImMqPP3Q1yfUHvsdn7wEo            0.529      0.821       -4.899   \n",
       "23478  2m69mhnfQ1Oq6lGtXuYhgX            0.626      0.888       -3.361   \n",
       "23479  29zWqhca3zt5NsckZqDf6c            0.603      0.884       -4.571   \n",
       "\n",
       "       af_mode  af_acousticness  af_instrumentalness  af_liveness  af_valence  \\\n",
       "0            1         0.102000             0.000000       0.0653      0.5180   \n",
       "1            1         0.072400             0.004210       0.3570      0.6930   \n",
       "2            0         0.079400             0.000023       0.1100      0.6130   \n",
       "3            1         0.028700             0.000008       0.2040      0.2800   \n",
       "4            1         0.080300             0.000000       0.0833      0.7250   \n",
       "...        ...              ...                  ...          ...         ...   \n",
       "23475        1         0.076600             0.000000       0.0668      0.2100   \n",
       "23476        1         0.001710             0.004270       0.3750      0.4000   \n",
       "23477        0         0.108000             0.000001       0.1500      0.4360   \n",
       "23478        1         0.007920             0.127000       0.3430      0.3080   \n",
       "23479        0         0.000133             0.341000       0.7420      0.0894   \n",
       "\n",
       "       af_tempo  af_key  af_speechiness  af_time_signature  af_duration_ms  \n",
       "0       122.036       6          0.0583                  4          194754  \n",
       "1        99.972      11          0.0373                  4          162600  \n",
       "2       124.008       1          0.0742                  4          176616  \n",
       "3       121.956       7          0.1010                  4          169093  \n",
       "4       123.976       1          0.0359                  4          189052  \n",
       "...         ...     ...             ...                ...             ...  \n",
       "23475   128.168       2          0.0935                  4          204375  \n",
       "23476   128.041       0          0.0420                  4          353120  \n",
       "23477   127.989       6          0.0481                  4          210112  \n",
       "23478   128.008       2          0.1090                  4          367432  \n",
       "23479   127.984       5          0.0385                  4          337500  \n",
       "\n",
       "[23480 rows x 14 columns]"
      ]
     },
     "execution_count": 45,
     "metadata": {},
     "output_type": "execute_result"
    }
   ],
   "source": [
    "audio_feats\n"
   ]
  },
  {
   "cell_type": "code",
   "execution_count": 41,
   "id": "b6d966f2-48b9-40e1-b78a-3aed0684f969",
   "metadata": {},
   "outputs": [],
   "source": [
    "import pandas as pd\n",
    "from sklearn.metrics.pairwise import cosine_similarity\n",
    "\n",
    "def calculate_cosine_similarity(features):\n",
    "    # Calculate the cosine similarity matrix from the features\n",
    "    return cosine_similarity(features)\n",
    "\n",
    "def calculate_correlation_similarity(features):\n",
    "    # Calculate the Pearson correlation matrix\n",
    "    return features.corr()\n"
   ]
  },
  {
   "cell_type": "code",
   "execution_count": 46,
   "id": "6b39351b-f0c0-4951-9f68-4f47a8af4490",
   "metadata": {},
   "outputs": [],
   "source": [
    "from tqdm import tqdm \n",
    "def get_top_recommendations(df, top_n=10):\n",
    "    # Assuming features are all columns except 'af_track_id'\n",
    "    features = df.drop(['af_track_id','af_duration_ms'], axis=1)\n",
    "    \n",
    "    # Calculate similarity matrices\n",
    "    cosine_sim = calculate_cosine_similarity(features)\n",
    "    corr_sim = calculate_correlation_similarity(features)\n",
    "    \n",
    "    # Convert cosine similarity matrix to DataFrame to align with corr_sim\n",
    "    cosine_sim_df = pd.DataFrame(cosine_sim, index=df.index, columns=df.index)\n",
    "    \n",
    "    # Calculate the average of cosine and correlation similarities\n",
    "    avg_similarity = (cosine_sim_df) \n",
    "    \n",
    "    # Prepare a dictionary to hold recommendations\n",
    "    recommendations = {}\n",
    "    \n",
    "    # Get top recommendations for each song\n",
    "    for idx in tqdm(df.index):\n",
    "        track_id = df.at[idx, 'af_track_id']\n",
    "        \n",
    "        # Get similarity scores for this track with all others, skip the self-similarity at index 'idx'\n",
    "        sim_scores = avg_similarity.iloc[idx]\n",
    "        \n",
    "        # Get indices of the songs with the highest similarity scores\n",
    "        # argsort returns indices of sorted values; [::-1] reverses for descending order\n",
    "        sorted_indices = sim_scores.argsort()[::-1][1:top_n+1]  # skip self by starting from 1\n",
    "        \n",
    "        # Get the track IDs of the most similar songs\n",
    "        similar_tracks = df['af_track_id'].iloc[sorted_indices].tolist()\n",
    "        \n",
    "        # Store in the dictionary\n",
    "        recommendations[track_id] = similar_tracks\n",
    "        if idx%1000==0:\n",
    "            print(idx)\n",
    "    \n",
    "    return recommendations\n"
   ]
  },
  {
   "cell_type": "code",
   "execution_count": 47,
   "id": "101f5338-929b-4250-ae98-bc97d025f634",
   "metadata": {},
   "outputs": [
    {
     "name": "stdout",
     "output_type": "stream",
     "text": [
      "Intel MKL WARNING: Support of Intel(R) Streaming SIMD Extensions 4.2 (Intel(R) SSE4.2) enabled only processors has been deprecated. Intel oneAPI Math Kernel Library 2025.0 will require Intel(R) Advanced Vector Extensions (Intel(R) AVX) instructions.\n"
     ]
    },
    {
     "name": "stderr",
     "output_type": "stream",
     "text": [
      "  0%|                                                                                   | 30/23480 [00:00<02:33, 152.77it/s]"
     ]
    },
    {
     "name": "stdout",
     "output_type": "stream",
     "text": [
      "0\n"
     ]
    },
    {
     "name": "stderr",
     "output_type": "stream",
     "text": [
      "  4%|███▌                                                                             | 1039/23480 [00:04<01:18, 287.11it/s]"
     ]
    },
    {
     "name": "stdout",
     "output_type": "stream",
     "text": [
      "1000\n"
     ]
    },
    {
     "name": "stderr",
     "output_type": "stream",
     "text": [
      "  9%|██████▉                                                                          | 2019/23480 [00:07<01:28, 241.38it/s]"
     ]
    },
    {
     "name": "stdout",
     "output_type": "stream",
     "text": [
      "2000\n"
     ]
    },
    {
     "name": "stderr",
     "output_type": "stream",
     "text": [
      " 13%|██████████▍                                                                      | 3036/23480 [00:11<01:12, 281.56it/s]"
     ]
    },
    {
     "name": "stdout",
     "output_type": "stream",
     "text": [
      "3000\n"
     ]
    },
    {
     "name": "stderr",
     "output_type": "stream",
     "text": [
      " 17%|█████████████▉                                                                   | 4032/23480 [00:15<01:14, 261.28it/s]"
     ]
    },
    {
     "name": "stdout",
     "output_type": "stream",
     "text": [
      "4000\n"
     ]
    },
    {
     "name": "stderr",
     "output_type": "stream",
     "text": [
      " 21%|█████████████████▎                                                               | 5036/23480 [00:19<01:10, 262.22it/s]"
     ]
    },
    {
     "name": "stdout",
     "output_type": "stream",
     "text": [
      "5000\n"
     ]
    },
    {
     "name": "stderr",
     "output_type": "stream",
     "text": [
      " 26%|████████████████████▊                                                            | 6041/23480 [00:23<01:17, 224.52it/s]"
     ]
    },
    {
     "name": "stdout",
     "output_type": "stream",
     "text": [
      "6000\n"
     ]
    },
    {
     "name": "stderr",
     "output_type": "stream",
     "text": [
      " 30%|████████████████████████▎                                                        | 7038/23480 [00:27<00:59, 278.11it/s]"
     ]
    },
    {
     "name": "stdout",
     "output_type": "stream",
     "text": [
      "7000\n"
     ]
    },
    {
     "name": "stderr",
     "output_type": "stream",
     "text": [
      " 34%|███████████████████████████▊                                                     | 8050/23480 [00:32<01:22, 186.21it/s]"
     ]
    },
    {
     "name": "stdout",
     "output_type": "stream",
     "text": [
      "8000\n"
     ]
    },
    {
     "name": "stderr",
     "output_type": "stream",
     "text": [
      " 38%|███████████████████████████████▏                                                 | 9031/23480 [00:36<00:52, 274.85it/s]"
     ]
    },
    {
     "name": "stdout",
     "output_type": "stream",
     "text": [
      "9000\n"
     ]
    },
    {
     "name": "stderr",
     "output_type": "stream",
     "text": [
      " 43%|██████████████████████████████████▏                                             | 10030/23480 [00:41<00:49, 269.60it/s]"
     ]
    },
    {
     "name": "stdout",
     "output_type": "stream",
     "text": [
      "10000\n"
     ]
    },
    {
     "name": "stderr",
     "output_type": "stream",
     "text": [
      " 47%|█████████████████████████████████████▌                                          | 11027/23480 [00:44<00:57, 216.89it/s]"
     ]
    },
    {
     "name": "stdout",
     "output_type": "stream",
     "text": [
      "11000\n"
     ]
    },
    {
     "name": "stderr",
     "output_type": "stream",
     "text": [
      " 51%|████████████████████████████████████████▉                                       | 12029/23480 [00:50<00:41, 279.23it/s]"
     ]
    },
    {
     "name": "stdout",
     "output_type": "stream",
     "text": [
      "12000\n"
     ]
    },
    {
     "name": "stderr",
     "output_type": "stream",
     "text": [
      " 56%|████████████████████████████████████████████▍                                   | 13039/23480 [00:54<00:40, 259.73it/s]"
     ]
    },
    {
     "name": "stdout",
     "output_type": "stream",
     "text": [
      "13000\n"
     ]
    },
    {
     "name": "stderr",
     "output_type": "stream",
     "text": [
      " 60%|███████████████████████████████████████████████▉                                | 14053/23480 [00:58<00:36, 254.87it/s]"
     ]
    },
    {
     "name": "stdout",
     "output_type": "stream",
     "text": [
      "14000\n"
     ]
    },
    {
     "name": "stderr",
     "output_type": "stream",
     "text": [
      " 64%|███████████████████████████████████████████████████▏                            | 15030/23480 [01:01<00:34, 245.55it/s]"
     ]
    },
    {
     "name": "stdout",
     "output_type": "stream",
     "text": [
      "15000\n"
     ]
    },
    {
     "name": "stderr",
     "output_type": "stream",
     "text": [
      " 68%|██████████████████████████████████████████████████████▌                         | 16032/23480 [01:05<00:27, 268.94it/s]"
     ]
    },
    {
     "name": "stdout",
     "output_type": "stream",
     "text": [
      "16000\n"
     ]
    },
    {
     "name": "stderr",
     "output_type": "stream",
     "text": [
      " 73%|██████████████████████████████████████████████████████████                      | 17052/23480 [01:10<00:23, 268.64it/s]"
     ]
    },
    {
     "name": "stdout",
     "output_type": "stream",
     "text": [
      "17000\n"
     ]
    },
    {
     "name": "stderr",
     "output_type": "stream",
     "text": [
      " 77%|█████████████████████████████████████████████████████████████▍                  | 18035/23480 [01:15<00:22, 244.92it/s]"
     ]
    },
    {
     "name": "stdout",
     "output_type": "stream",
     "text": [
      "18000\n"
     ]
    },
    {
     "name": "stderr",
     "output_type": "stream",
     "text": [
      " 81%|████████████████████████████████████████████████████████████████▉               | 19053/23480 [01:18<00:16, 268.97it/s]"
     ]
    },
    {
     "name": "stdout",
     "output_type": "stream",
     "text": [
      "19000\n"
     ]
    },
    {
     "name": "stderr",
     "output_type": "stream",
     "text": [
      " 85%|████████████████████████████████████████████████████████████████████▏           | 20028/23480 [01:22<00:14, 243.49it/s]"
     ]
    },
    {
     "name": "stdout",
     "output_type": "stream",
     "text": [
      "20000\n"
     ]
    },
    {
     "name": "stderr",
     "output_type": "stream",
     "text": [
      " 90%|███████████████████████████████████████████████████████████████████████▋        | 21046/23480 [01:26<00:09, 269.82it/s]"
     ]
    },
    {
     "name": "stdout",
     "output_type": "stream",
     "text": [
      "21000\n"
     ]
    },
    {
     "name": "stderr",
     "output_type": "stream",
     "text": [
      " 94%|███████████████████████████████████████████████████████████████████████████     | 22029/23480 [01:30<00:05, 266.60it/s]"
     ]
    },
    {
     "name": "stdout",
     "output_type": "stream",
     "text": [
      "22000\n"
     ]
    },
    {
     "name": "stderr",
     "output_type": "stream",
     "text": [
      " 98%|██████████████████████████████████████████████████████████████████████████████▍ | 23032/23480 [01:34<00:01, 287.48it/s]"
     ]
    },
    {
     "name": "stdout",
     "output_type": "stream",
     "text": [
      "23000\n"
     ]
    },
    {
     "name": "stderr",
     "output_type": "stream",
     "text": [
      "100%|████████████████████████████████████████████████████████████████████████████████| 23480/23480 [01:35<00:00, 245.56it/s]\n"
     ]
    },
    {
     "name": "stdout",
     "output_type": "stream",
     "text": [
      "                 Track ID                              Recommended Track IDs\n",
      "0  6f807x0ima9a1j3VPbc7VN  [7uYgVgRSgqluZclLS7wpp4, 72LFgoXC3a1sOKZM7jUeT...\n",
      "1  0r7CVbZTWZgbTCYdfa2P31  [660zp5cgJrTXahkfq0zYMQ, 4fxOCTCTQtsrbK6y1K9JH...\n",
      "2  1z1Hg7Vb0AhHDiEmnDE79l  [1GfsNRRMT5Dg4DjEYpRa1h, 0GuLonchqLiGK1zzcrp2y...\n",
      "3  75FpbthrwQmzHlBJLuGdC7  [3BT5oU2l8UDLFgyOTUdKe4, 2jcYSJGmvhpYn3D6IVzS0...\n",
      "4  1e8PAfcKUYoKkxPhrHqw4x  [6AKRht2NaMsg7z13psKjHk, 0385HqYimoTQaHZP17KwG...\n"
     ]
    }
   ],
   "source": [
    "# Example DataFrame loading (replace with actual data loading code)\n",
    "# df = pd.read_csv('path_to_your_data.csv')\n",
    "import warnings\n",
    "warnings.filterwarnings('ignore')\n",
    "# Get recommendations\n",
    "all_recommendations = get_top_recommendations(audio_feats)\n",
    "\n",
    "# Convert to DataFrame\n",
    "recommendations_df = pd.DataFrame(list(all_recommendations.items()), columns=['Track ID', 'Recommended Track IDs'])\n",
    "\n",
    "# Display the result\n",
    "print(recommendations_df.head())\n"
   ]
  },
  {
   "cell_type": "code",
   "execution_count": 57,
   "id": "fe46c886-9c3f-4cb6-b65e-d82546d8f335",
   "metadata": {},
   "outputs": [],
   "source": [
    "recommendations_df_final = pd.concat([recommendations_df.drop('Recommended Track IDs',axis=1),\\\n",
    "                                      pd.DataFrame(recommendations_df['Recommended Track IDs'].values.tolist())],\n",
    "                                     axis=1)"
   ]
  },
  {
   "cell_type": "code",
   "execution_count": 64,
   "id": "38f4dd20-6c02-4d0c-a0a9-ac937562521f",
   "metadata": {},
   "outputs": [],
   "source": [
    "recommendations_df_final.columns = ['Track ID', \n",
    "                                    'recommended_track_1',\n",
    "                                    'recommended_track_2',\n",
    "                                    'recommended_track_3',\n",
    "                                    'recommended_track_4',\n",
    "                                    'recommended_track_5',\n",
    "                                    'recommended_track_6',\n",
    "                                    'recommended_track_7',\n",
    "                                    'recommended_track_8',\n",
    "                                    'recommended_track_9',\n",
    "                                    'recommended_track_10']"
   ]
  },
  {
   "cell_type": "code",
   "execution_count": 66,
   "id": "7c715dbf-775f-4ab5-98b2-dd233d9f9024",
   "metadata": {},
   "outputs": [],
   "source": [
    "recommendations_df_final.to_csv('recommendations.csv')"
   ]
  },
  {
   "cell_type": "code",
   "execution_count": null,
   "id": "4e3358f6-73aa-4e16-986c-dad036706363",
   "metadata": {},
   "outputs": [],
   "source": []
  }
 ],
 "metadata": {
  "kernelspec": {
   "display_name": "Python 3 (ipykernel)",
   "language": "python",
   "name": "python3"
  },
  "language_info": {
   "codemirror_mode": {
    "name": "ipython",
    "version": 3
   },
   "file_extension": ".py",
   "mimetype": "text/x-python",
   "name": "python",
   "nbconvert_exporter": "python",
   "pygments_lexer": "ipython3",
   "version": "3.9.12"
  }
 },
 "nbformat": 4,
 "nbformat_minor": 5
}
